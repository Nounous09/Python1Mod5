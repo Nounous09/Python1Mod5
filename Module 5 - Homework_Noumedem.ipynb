{
 "cells": [
  {
   "cell_type": "markdown",
   "metadata": {},
   "source": [
    "### Exercise 1. \n",
    "Create a dictionary named pairs with key value pairs of:\n",
    "    - 'hello' and 'fire', \n",
    "    - 3 and 'seven', \n",
    "    - 'strong' and 45. \n",
    "\n",
    "Then, print out the dictionary."
   ]
  },
  {
   "cell_type": "code",
   "execution_count": 1,
   "metadata": {},
   "outputs": [
    {
     "name": "stdout",
     "output_type": "stream",
     "text": [
      "{'hello': 'fire', -3: 'seven', 'strong': 45}\n"
     ]
    }
   ],
   "source": [
    "pairs= {}\n",
    "\n",
    "pairs['hello'] = \"fire\"\n",
    "pairs[-3] = \"seven\"\n",
    "pairs['strong'] = 45\n",
    "\n",
    "print(pairs)"
   ]
  },
  {
   "cell_type": "markdown",
   "metadata": {},
   "source": [
    "### Exercise 2. \n",
    "Add 'welcome' and 56 pair into <b><i>pairs</i></b> dictionary from exercise 1. Then, print out the dictionary. "
   ]
  },
  {
   "cell_type": "code",
   "execution_count": 2,
   "metadata": {},
   "outputs": [
    {
     "name": "stdout",
     "output_type": "stream",
     "text": [
      "{'hello': 'fire', -3: 'seven', 'strong': 45, 'welcome': 6}\n"
     ]
    }
   ],
   "source": [
    "pairs['welcome'] = 6\n",
    "\n",
    "print(pairs)"
   ]
  },
  {
   "cell_type": "markdown",
   "metadata": {},
   "source": [
    "### Exercise 3. \n",
    "Delete one item from <b><i>pairs</i></b> dictionary. Then, print deleted item and the dictionary."
   ]
  },
  {
   "cell_type": "code",
   "execution_count": 3,
   "metadata": {},
   "outputs": [
    {
     "name": "stdout",
     "output_type": "stream",
     "text": [
      "Original dict: {'hello': 'fire', -3: 'seven', 'strong': 45, 'welcome': 6}\n",
      "Deleted item: seven\n",
      "New pairs: {'hello': 'fire', 'strong': 45, 'welcome': 6}\n"
     ]
    }
   ],
   "source": [
    "pairs_copy = pairs.copy()\n",
    "item = pairs.pop(-3)\n",
    "\n",
    "print(f\"Original dict: {pairs_copy}\\nDeleted item: {item}\\nNew pairs: {pairs}\")\n"
   ]
  },
  {
   "cell_type": "markdown",
   "metadata": {},
   "source": [
    "### Exercise 4. \n",
    "Print the value of an item where key is 3 in <b><i>pairs</i></b> dicitonary"
   ]
  },
  {
   "cell_type": "code",
   "execution_count": 5,
   "metadata": {},
   "outputs": [
    {
     "name": "stdout",
     "output_type": "stream",
     "text": [
      "{'hello': 'fire', 'strong': 45, 'welcome': 6}\n",
      "None\n"
     ]
    }
   ],
   "source": [
    "print(pairs)\n",
    "\n",
    "item = pairs.get(3)\n",
    "\n",
    "print(item)"
   ]
  },
  {
   "cell_type": "markdown",
   "metadata": {},
   "source": [
    "### Exercise 5. \n",
    "Try to find out if the key called 'hello' exist in <b><i>pairs</i></b> dictionary. Print 'key is found' message if the key exists otherwise print 'key is not there'."
   ]
  },
  {
   "cell_type": "code",
   "execution_count": 6,
   "metadata": {},
   "outputs": [
    {
     "name": "stdout",
     "output_type": "stream",
     "text": [
      "'key found'\n"
     ]
    }
   ],
   "source": [
    "for key in pairs.keys():\n",
    "\n",
    "    if key == 'hello':\n",
    "        print(\"'key found'\")\n",
    "        break\n",
    "    else:\n",
    "        print(\"'key is not there'\")"
   ]
  },
  {
   "cell_type": "markdown",
   "metadata": {},
   "source": [
    "### Exercise 6. \n",
    "\n",
    "For each item in a dictionary, create a for-loop that prints all the key-value pairs in the following format:\n",
    "\n",
    "        key -> value\n",
    "        \n",
    "To complete this exercise, first create your own dictionary of pet names. The key should be the type of pet (i.e. dog, lizard, etc) and the value should be the name of the specific pet. Your dictionary should have at least 5 items. "
   ]
  },
  {
   "cell_type": "code",
   "execution_count": 7,
   "metadata": {},
   "outputs": [
    {
     "name": "stdout",
     "output_type": "stream",
     "text": [
      "key: dog \t\tvalue: zeus\n",
      "key: cat \t\tvalue: mina\n",
      "key: lizard \t\tvalue: dan\n",
      "key: pirrot \t\tvalue: vince\n",
      "key: bunny \t\tvalue: buck\n"
     ]
    }
   ],
   "source": [
    "pets = {\"dog\": \"zeus\", \"cat\": \"mina\", \"lizard\": \"dan\", \"pirrot\": \"vince\", \"bunny\": \"buck\"}\n",
    "\n",
    "for x in pets:\n",
    "    print(f\"key: {x} \\t\\tvalue: {pets[x]}\")"
   ]
  },
  {
   "cell_type": "markdown",
   "metadata": {},
   "source": [
    "### Exercise 7. \n",
    "\n",
    "Convert the following lists into a single dictionary.\n",
    "\n",
    "keys = ['Ten', 'Twenty', 'Thirty']\n",
    "values = [10, 20, 30]"
   ]
  },
  {
   "cell_type": "code",
   "execution_count": 8,
   "metadata": {},
   "outputs": [
    {
     "name": "stdout",
     "output_type": "stream",
     "text": [
      "{'keys': ['Ten', 'Twenty', 'Thirty'], 'values': [10, 20, 30]}\n"
     ]
    }
   ],
   "source": [
    "keys = ['Ten', 'Twenty', 'Thirty'] \n",
    "values = [10, 20, 30]\n",
    "\n",
    "numb = {\"keys\": keys, \"values\": values}\n",
    "\n",
    "print(numb)"
   ]
  },
  {
   "cell_type": "markdown",
   "metadata": {},
   "source": [
    "### Exercise 8. \n",
    "\n",
    "Convert the following list and dictionary into a single dictionary. The name of the patient should be the key and their health info should be the value. \n",
    "\n",
    "patient_name = [\"Lily\", \"Morgan\", \"Nicholas\"]\n",
    "\n",
    "patient_info = {\"5'6\" : \"178lbs\", \"5'9\" : \"134lbs\", \"6'1\" : \"218lbs\"}"
   ]
  },
  {
   "cell_type": "code",
   "execution_count": 9,
   "metadata": {},
   "outputs": [
    {
     "name": "stdout",
     "output_type": "stream",
     "text": [
      "{'lily': [\"5'6\", '178lbs'], 'Morgan': [\"5'9\", '134lbs'], 'Nicholas': [\"6'1\", '218lbs']}\n"
     ]
    }
   ],
   "source": [
    "patient_name = [\"Lily\", \"Morgan\", \"Nicholas\"]\n",
    "\n",
    "#patient_info = {\"5'6\" : \"178lbs\", \"5'9\" : \"134lbs\", \"6'1\" : \"218lbs\"}\n",
    "\n",
    "patient_info = [[\"5'6\", \"178lbs\"], [\"5'9\", \"134lbs\"], [\"6'1\", \"218lbs\"]]\n",
    "\n",
    "patients = {}\n",
    "\n",
    "patients[\"lily\"] = patient_info[0]\n",
    "patients[\"Morgan\"] = patient_info[1]\n",
    "patients[\"Nicholas\"] = patient_info[2]\n",
    "\n",
    "print(patients)\n"
   ]
  },
  {
   "cell_type": "code",
   "execution_count": null,
   "metadata": {},
   "outputs": [],
   "source": []
  }
 ],
 "metadata": {
  "kernelspec": {
   "display_name": "Python 3 (ipykernel)",
   "language": "python",
   "name": "python3"
  },
  "language_info": {
   "codemirror_mode": {
    "name": "ipython",
    "version": 3
   },
   "file_extension": ".py",
   "mimetype": "text/x-python",
   "name": "python",
   "nbconvert_exporter": "python",
   "pygments_lexer": "ipython3",
   "version": "3.9.7"
  }
 },
 "nbformat": 4,
 "nbformat_minor": 4
}
